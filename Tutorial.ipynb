{
 "cells": [
  {
   "cell_type": "markdown",
   "metadata": {},
   "source": [
    "# How to collect Software Metrics with Understand\n",
    "\n",
    "This is a simple tutorial, showing the steps to collect software metrics from any Java GitHub project.\n",
    "\n",
    "## Steps:\n",
    "1. [Download Understand from SciTools](#1.-Download-Understand-from-SciTools)\n",
    "2. [Clone GitHub Java project](#2.-Clone-GitHub-Java-project)\n",
    "3. [Collect all commits' hash](#3.-Collect-all-commits'-hash)\n",
    "4. [Run a bash script called _\"metrics.sh\"_](#4.-Run-a-bash-script-called-\"metrics.sh\")"
   ]
  },
  {
   "cell_type": "markdown",
   "metadata": {},
   "source": [
    "## 1. Download Understand from SciTools\n",
    "Basically, here you are going to download Understand and install on your respectively OS. <br>\n",
    "***\n",
    "Link to Download understand: https://scitools.com/download-2/ <br>\n",
    "Link to tutorial to install and run Understand downloaded on __Linux__: https://scitools.com/documents/unix_install.php\n",
    "***\n",
    "After we will use it to extract software metrics."
   ]
  },
  {
   "cell_type": "markdown",
   "metadata": {},
   "source": [
    "## 2. Clone GitHub Java project\n",
    "\n",
    "Clone repository you want to collect the software metrics.\n",
    "\n",
    "For example: _git clone_ https://github.com/elastic/elasticsearch-hadoop.git\n",
    "\n",
    "You will need pass the repository's path after. <br>\n",
    "For example, in my computer the path to the project is: __/home/macdowell/pesquisa/software-metrics-TUTORIAL/elasticsearch-hadoop__"
   ]
  },
  {
   "cell_type": "markdown",
   "metadata": {},
   "source": [
    "## 3. Collect all commits' hash\n",
    "\n",
    "On this step, you will need to collect all commits' hash (string which is the reference to a commit) of the cloned project and save in one file called _\"commits.txt\"_.\n",
    "\n",
    "It can be done in several ways. Going to approach this problem using terminal command _git log_ with parameters to format and outputs in _commits.txt_ file.\n",
    "\n",
    "__Note: On terminal you must be in the same directory of GitHub project to use _git_ commands.__\n",
    "***\n",
    "Example:\n",
    "\n",
    "\n",
    "_git log --pretty=format:\"%H\" > /home/macdowell/pesquisa/software-metrics-TUTORIAL/commits.txt_\n",
    "\n",
    "With this, I get all commits' hash from the git project, one by line, saved in a file called _commits.txt_.\n",
    "***"
   ]
  },
  {
   "cell_type": "markdown",
   "metadata": {},
   "source": [
    "## 4. Run a bash script called _\"metrics.sh\"_\n",
    "\n",
    "On this step, let's create a folder containing: __metrics.sh__ file, __commits.txt__ file and scitools' folder (result of step 1).\n",
    "\n",
    "Opening the _script.sh_ you will see on line 3 an assignment. You have to assign the full path to the Git cloned repository, for example:\n",
    "\n",
    "__repository=/pesquisa/software-metrics-TUTORIAL/elasticsearch-hadoop/__ \n",
    "\n",
    "The last bar is extremelly important.\n",
    "\n",
    "Now you run the bash script with the command: _bash metrics.sh_\n",
    "### Output files:\n",
    "\n",
    "The output will be: .csv files.\n",
    "\n",
    "One csv file by commit of project will be generated with __columns__ referent to the metrics and __rows__ referent to the each element to the project (e.g classes, methods, packages)."
   ]
  }
 ],
 "metadata": {
  "kernelspec": {
   "display_name": "Python 3",
   "language": "python",
   "name": "python3"
  },
  "language_info": {
   "codemirror_mode": {
    "name": "ipython",
    "version": 3
   },
   "file_extension": ".py",
   "mimetype": "text/x-python",
   "name": "python",
   "nbconvert_exporter": "python",
   "pygments_lexer": "ipython3",
   "version": "3.6.6"
  }
 },
 "nbformat": 4,
 "nbformat_minor": 2
}
